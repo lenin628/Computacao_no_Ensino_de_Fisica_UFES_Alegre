{
 "cells": [
  {
   "cell_type": "markdown",
   "metadata": {
    "id": "QOnD-xP5enO-",
    "slideshow": {
     "slide_type": "slide"
    }
   },
   "source": [
    "# Disciplina - DQF10443 Computação no Ensino de Física (CEF)\n",
    "## Aula em 26/10/2022 - Semestre 2022/2\n",
    "### Prof. Roberto Colistete Jr. (RC)\n",
    "### [DQF - CCENS](http://alegre.ufes.br/ccens/departamento-de-quimica-e-fisica) - [UFES/Alegre](http://alegre.ufes.br/)"
   ]
  },
  {
   "cell_type": "markdown",
   "metadata": {
    "id": "RAvlCiNveyFr",
    "slideshow": {
     "slide_type": "slide"
    }
   },
   "source": [
    "# Seaborn - Statistical Data Visualization\n",
    "\n"
   ]
  },
  {
   "cell_type": "markdown",
   "metadata": {
    "id": "a7Zaa6Y-e547",
    "slideshow": {
     "slide_type": "fragment"
    }
   },
   "source": [
    "Referências :"
   ]
  },
  {
   "cell_type": "markdown",
   "metadata": {
    "id": "a7Zaa6Y-e547",
    "slideshow": {
     "slide_type": "fragment"
    }
   },
   "source": [
    "- [site oficial de Seaborn - seaborn.pydata.org](https://seaborn.pydata.org/);"
   ]
  },
  {
   "cell_type": "markdown",
   "metadata": {
    "id": "a7Zaa6Y-e547",
    "slideshow": {
     "slide_type": "fragment"
    }
   },
   "source": [
    "- [Seaborn Quickstart, PDF de 1 página](https://www.datacamp.com/cheat-sheet/python-seaborn-cheat-sheet);"
   ]
  },
  {
   "cell_type": "markdown",
   "metadata": {
    "id": "a7Zaa6Y-e547",
    "slideshow": {
     "slide_type": "fragment"
    }
   },
   "source": [
    "- [Python Seaborn Tutorial For Beginners](https://www.datacamp.com/community/tutorials/seaborn-python-tutorial), \n",
    "mostra várias opções de gráficos com Seaborn;"
   ]
  },
  {
   "cell_type": "markdown",
   "metadata": {
    "id": "a7Zaa6Y-e547",
    "slideshow": {
     "slide_type": "fragment"
    }
   },
   "source": [
    "- [How to build beautiful plots with Python and Seaborn - The guide to plotting data with Python and Seaborn - Dec 25, 2020, by Juan Cruz Martinez](https://livecodestream.dev/post/how-to-build-beautiful-plots-with-python-and-seaborn/);"
   ]
  },
  {
   "cell_type": "markdown",
   "metadata": {
    "id": "a7Zaa6Y-e547",
    "slideshow": {
     "slide_type": "subslide"
    }
   },
   "source": [
    "- [Seaborn Tutorial in Python For Beginners, By Hussain Mujtaba - Oct 8, 2020](https://www.mygreatlearning.com/blog/seaborn-tutorial/);"
   ]
  },
  {
   "cell_type": "markdown",
   "metadata": {
    "id": "a7Zaa6Y-e547",
    "slideshow": {
     "slide_type": "fragment"
    }
   },
   "source": [
    "- [Python Seaborn Tutorial - Journal Dev](https://www.journaldev.com/18583/python-seaborn-tutorial), \n",
    "mostra várias opções dos gráficos;"
   ]
  },
  {
   "cell_type": "markdown",
   "metadata": {
    "id": "a7Zaa6Y-e547",
    "slideshow": {
     "slide_type": "fragment"
    }
   },
   "source": [
    "- [A Complete Python Seaborn Tutorial, Rohit Gupta Rohit Gupta, Jun 22, 2020](\n",
    "https://www.c-sharpcorner.com/article/a-complete-python-seaborn-tutorial/), com vários exemplos avançados.  \n",
    "`sns.residplot()` p/ gráfico de resíduos de regressão linear.;"
   ]
  },
  {
   "cell_type": "markdown",
   "metadata": {
    "id": "a7Zaa6Y-e547",
    "slideshow": {
     "slide_type": "fragment"
    }
   },
   "source": [
    "- [Visualization with Seaborn, excerpt from the Python Data Science Handbook by Jake VanderPlas](\n",
    "https://jakevdp.github.io/PythonDataScienceHandbook/04.14-visualization-with-seaborn.html).  \n",
    "[Repositório GitHub \"jakevdp / PythonDataScienceHandbook\"](https://github.com/jakevdp/PythonDataScienceHandbook);"
   ]
  },
  {
   "cell_type": "markdown",
   "metadata": {
    "id": "a7Zaa6Y-e547",
    "slideshow": {
     "slide_type": "fragment"
    }
   },
   "source": [
    "- [The Ultimate Python Seaborn Tutorial: Gotta Catch ‘Em All](https://elitedatascience.com/python-seaborn-tutorial);"
   ]
  },
  {
   "cell_type": "markdown",
   "metadata": {
    "id": "RAvlCiNveyFr",
    "slideshow": {
     "slide_type": "slide"
    }
   },
   "source": [
    "# [Bokeh - bokeh.org](https://bokeh.org/)"
   ]
  },
  {
   "cell_type": "markdown",
   "metadata": {
    "id": "a7Zaa6Y-e547",
    "slideshow": {
     "slide_type": "fragment"
    }
   },
   "source": [
    "Vide [Bokeh Quickstart](https://nbviewer.jupyter.org/github/bokeh/bokeh-notebooks/blob/master/quickstart/quickstart.ipynb) :"
   ]
  },
  {
   "cell_type": "code",
   "execution_count": null,
   "metadata": {
    "executionInfo": {
     "elapsed": 732,
     "status": "ok",
     "timestamp": 1615857494113,
     "user": {
      "displayName": "Roberto Colistete Jr.",
      "photoUrl": "",
      "userId": "16158734499147360010"
     },
     "user_tz": 180
    },
    "id": "LXTxU5jtdiY1",
    "slideshow": {
     "slide_type": "fragment"
    }
   },
   "outputs": [],
   "source": [
    "from bokeh.plotting import figure \n",
    "from bokeh.io import output_notebook, show"
   ]
  },
  {
   "cell_type": "code",
   "execution_count": null,
   "metadata": {
    "executionInfo": {
     "elapsed": 689,
     "status": "ok",
     "timestamp": 1615857506057,
     "user": {
      "displayName": "Roberto Colistete Jr.",
      "photoUrl": "",
      "userId": "16158734499147360010"
     },
     "user_tz": 180
    },
    "id": "NzuY6_e9doy0",
    "slideshow": {
     "slide_type": "fragment"
    }
   },
   "outputs": [],
   "source": [
    "output_notebook()"
   ]
  },
  {
   "cell_type": "code",
   "execution_count": null,
   "metadata": {
    "executionInfo": {
     "elapsed": 532,
     "status": "ok",
     "timestamp": 1615857511167,
     "user": {
      "displayName": "Roberto Colistete Jr.",
      "photoUrl": "",
      "userId": "16158734499147360010"
     },
     "user_tz": 180
    },
    "id": "p_7V7lmmdrJ6",
    "slideshow": {
     "slide_type": "fragment"
    }
   },
   "outputs": [],
   "source": [
    "from numpy import cos, linspace\n",
    "x = linspace(-6, 6, 100)\n",
    "y = cos(x)"
   ]
  },
  {
   "cell_type": "code",
   "execution_count": null,
   "metadata": {
    "colab": {
     "base_uri": "https://localhost:8080/",
     "height": 34
    },
    "executionInfo": {
     "elapsed": 488,
     "status": "ok",
     "timestamp": 1615857515786,
     "user": {
      "displayName": "Roberto Colistete Jr.",
      "photoUrl": "",
      "userId": "16158734499147360010"
     },
     "user_tz": 180
    },
    "id": "2x0jKSEqdtnx",
    "outputId": "5e66f40c-3f66-45b8-dca5-ceea716a659b",
    "slideshow": {
     "slide_type": "subslide"
    }
   },
   "outputs": [],
   "source": [
    "p = figure(width=500, height=500)\n",
    "p.circle(x, y, size=7, color=\"firebrick\", alpha=0.5)"
   ]
  },
  {
   "cell_type": "code",
   "execution_count": null,
   "metadata": {
    "colab": {
     "base_uri": "https://localhost:8080/",
     "height": 517
    },
    "executionInfo": {
     "elapsed": 546,
     "status": "ok",
     "timestamp": 1615857518496,
     "user": {
      "displayName": "Roberto Colistete Jr.",
      "photoUrl": "",
      "userId": "16158734499147360010"
     },
     "user_tz": 180
    },
    "id": "CurnmuhDdvxz",
    "outputId": "0021d37b-544d-4942-f965-2569fb836d34",
    "slideshow": {
     "slide_type": "fragment"
    }
   },
   "outputs": [],
   "source": [
    "show(p)"
   ]
  },
  {
   "cell_type": "code",
   "execution_count": null,
   "metadata": {
    "colab": {
     "base_uri": "https://localhost:8080/",
     "height": 430
    },
    "executionInfo": {
     "elapsed": 553,
     "status": "ok",
     "timestamp": 1615857658793,
     "user": {
      "displayName": "Roberto Colistete Jr.",
      "photoUrl": "",
      "userId": "16158734499147360010"
     },
     "user_tz": 180
    },
    "id": "-ZQq5j-tdy3_",
    "outputId": "11f7b59c-3137-4a62-81e9-945e127f995c",
    "slideshow": {
     "slide_type": "fragment"
    }
   },
   "outputs": [],
   "source": [
    "from IPython.display import IFrame\n",
    "IFrame('https://demo.bokeh.org/sliders', width=900, height=410)"
   ]
  },
  {
   "cell_type": "markdown",
   "metadata": {
    "slideshow": {
     "slide_type": "subslide"
    }
   },
   "source": [
    "Bokeh :\n",
    "- Standard Model of Particle Physics with Bokeh :\n",
    "https://twitter.com/bokeh/status/1371860432005308416\n",
    "\n",
    "https://discourse.bokeh.org/t/standard-model-of-particle-physics-with-bokeh/7387\n",
    "\n",
    "https://github.com/nikosarcevic/Data_Visualisation\n",
    "\n",
    "cita tabela periódica de elementos :\n",
    "https://docs.bokeh.org/en/latest/docs/gallery/periodic.html"
   ]
  }
 ],
 "metadata": {
  "celltoolbar": "Slideshow",
  "colab": {
   "authorship_tag": "ABX9TyORd67Azw+COFfEmcq75acK",
   "collapsed_sections": [
    "RAvlCiNveyFr",
    "tLqty4h-fsot",
    "CBlbBRoQgcId"
   ],
   "name": "Aula_CEF_20210315.ipynb",
   "provenance": []
  },
  "kernelspec": {
   "display_name": "Python 3 (ipykernel)",
   "language": "python",
   "name": "python3"
  },
  "language_info": {
   "codemirror_mode": {
    "name": "ipython",
    "version": 3
   },
   "file_extension": ".py",
   "mimetype": "text/x-python",
   "name": "python",
   "nbconvert_exporter": "python",
   "pygments_lexer": "ipython3",
   "version": "3.10.7"
  }
 },
 "nbformat": 4,
 "nbformat_minor": 1
}
